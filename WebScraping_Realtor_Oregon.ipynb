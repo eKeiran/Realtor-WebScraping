{
  "cells": [
    {
      "cell_type": "code",
      "execution_count": 1,
      "metadata": {
        "id": "_OzrGtNXlpOG"
      },
      "outputs": [],
      "source": [
        "from selenium import webdriver\n",
        "from bs4 import BeautifulSoup\n",
        "import pandas as pd\n",
        "import undetected_chromedriver as uc\n",
        "import time\n"
      ]
    },
    {
      "cell_type": "code",
      "execution_count": 14,
      "metadata": {},
      "outputs": [],
      "source": [
        "\n",
        "def scrape_data(url):\n",
        "    prices = []\n",
        "    bedrooms = []\n",
        "    bathrooms = []\n",
        "    sqfts = []\n",
        "    addresses = []\n",
        "    zip_codes = []\n",
        "    options = uc.ChromeOptions()\n",
        "    options.add_argument(\"--enable-javascript\")\n",
        "    options.add_argument(\"start-maximized\")\n",
        "    driver = uc.Chrome(options=options, browser_executable_path=\"/usr/bin/chromium\", driver_executable_path=\"/tmp/chromedriver\")\n",
        "    driver.get(url)\n",
        "    time.sleep(1)  \n",
        "\n",
        "    driver.execute_script(\"window.scrollTo(0, document.body.scrollHeight);\")\n",
        "    content = driver.page_source\n",
        "    soup = BeautifulSoup(content, features='html.parser')\n",
        "    property_cards = soup.select('div[class^=\"CardContent__StyledCardContent\"]')\n",
        "\n",
        "    for card in property_cards:\n",
        "        price = None\n",
        "        bedroom_raw = None\n",
        "        bathroom_raw = None\n",
        "        sqft_raw = None\n",
        "\n",
        "        price_elem = card.find('div', class_='card-price')\n",
        "        if price_elem:\n",
        "            price_text = price_elem.text.strip()\n",
        "            price = ''.join(filter(str.isdigit, price_text))\n",
        "            price = price.lstrip('$')\n",
        "\n",
        "        bedroom_elem = card.find('li', class_='PropertyBedMetastyles__StyledPropertyBedMeta-rui__a4nnof-0')\n",
        "        if bedroom_elem:\n",
        "            bedroom_raw = bedroom_elem.text.strip()\n",
        "\n",
        "        bathroom_elem = card.find('li', class_='PropertyBathMetastyles__StyledPropertyBathMeta-rui__sc-67m6bo-0')\n",
        "        if bathroom_elem:\n",
        "            bathroom_raw = bathroom_elem.text.strip()\n",
        "\n",
        "        sqft_elem = card.find('li', class_='PropertySqftMetastyles__StyledPropertySqftMeta-rui__sc-1gdau7i-0')\n",
        "        if sqft_elem:\n",
        "            sqft_raw = sqft_elem.text.strip()\n",
        "\n",
        "        bedroom = ''.join(filter(str.isdigit, bedroom_raw)) if bedroom_raw else None\n",
        "        bathroom = ''.join(filter(str.isdigit, bathroom_raw)) if bathroom_raw else None\n",
        "        sqft = ''.join(filter(str.isdigit, sqft_raw.split()[0]))[:4] if sqft_raw else None\n",
        "\n",
        "        address_elem = card.find('div', class_='card-address')\n",
        "        address = address_elem.text.strip() if address_elem else None\n",
        "        zip_code = address.split()[-1] if address else None\n",
        "\n",
        "        prices.append(price)\n",
        "        bedrooms.append(bedroom)\n",
        "        bathrooms.append(bathroom)\n",
        "        sqfts.append(sqft)\n",
        "        addresses.append(address)\n",
        "        zip_codes.append(zip_code)\n",
        "\n",
        "    return prices, bedrooms, bathrooms, sqfts, addresses, zip_codes\n"
      ]
    },
    {
      "cell_type": "code",
      "execution_count": 18,
      "metadata": {},
      "outputs": [],
      "source": [
        "all_data = []\n",
        "for page_num in range(1, 21):\n",
        "    url = f'https://www.realtor.com/realestateandhomes-search/Portland_OR/show-newest-listings/pg-{page_num}'\n",
        "    prices, bedrooms, bathrooms, sqfts, addresses, zip_codes = scrape_data(url)\n",
        "    page_data = {\n",
        "        'Price': prices,\n",
        "        'Bedrooms': bedrooms,\n",
        "        'Bathrooms': bathrooms,\n",
        "        'Sqft': sqfts,\n",
        "        'Address': addresses,\n",
        "        'ZIP Code': zip_codes\n",
        "    }\n",
        "    all_data.append(page_data)\n",
        "\n",
        "df = pd.concat([pd.DataFrame(page_data) for page_data in all_data], ignore_index=True)\n",
        "\n",
        "df.to_csv('scraped_data_oregon.csv', index=False)\n"
      ]
    }
  ],
  "metadata": {
    "colab": {
      "provenance": []
    },
    "kernelspec": {
      "display_name": "Python 3",
      "name": "python3"
    },
    "language_info": {
      "codemirror_mode": {
        "name": "ipython",
        "version": 3
      },
      "file_extension": ".py",
      "mimetype": "text/x-python",
      "name": "python",
      "nbconvert_exporter": "python",
      "pygments_lexer": "ipython3",
      "version": "3.7.12"
    }
  },
  "nbformat": 4,
  "nbformat_minor": 0
}
